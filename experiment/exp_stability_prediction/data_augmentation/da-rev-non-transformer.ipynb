{
 "cells": [
  {
   "cell_type": "markdown",
   "metadata": {},
   "source": [
    "#### 3 seeds test for DA-rev-non performance - transformer"
   ]
  },
  {
   "cell_type": "code",
   "execution_count": 1,
   "metadata": {},
   "outputs": [],
   "source": [
    "import numpy as np\n",
    "import pandas as pd\n",
    "import seaborn as sns\n",
    "%matplotlib inline\n",
    "from tensorflow.keras.utils import to_categorical\n",
    "import matplotlib.pyplot as plt\n",
    "%matplotlib inline\n",
    "from sklearn.metrics import r2_score, mean_squared_error\n",
    "from scipy.stats import pearsonr"
   ]
  },
  {
   "cell_type": "code",
   "execution_count": 2,
   "metadata": {},
   "outputs": [],
   "source": [
    "def convert2d(array):\n",
    "    new_list = []\n",
    "    for i in range(array.shape[0]):\n",
    "        new_list.append(array[i][0])\n",
    "    return np.array(new_list)\n",
    "\n",
    "def seed3dict():\n",
    "    new_dict = {'r2_score':np.zeros(3,dtype=float),'rmse':np.zeros(3,dtype=float),'pcc':np.zeros(3,dtype=float)}\n",
    "    return new_dict"
   ]
  },
  {
   "cell_type": "code",
   "execution_count": 3,
   "metadata": {},
   "outputs": [
    {
     "name": "stderr",
     "output_type": "stream",
     "text": [
      "c:\\Users\\Administrator\\AppData\\Local\\Programs\\Python\\Python39\\lib\\site-packages\\scipy\\stats\\_stats_py.py:4068: PearsonRConstantInputWarning: An input array is constant; the correlation coefficient is not defined.\n",
      "  warnings.warn(PearsonRConstantInputWarning())\n",
      "c:\\Users\\Administrator\\AppData\\Local\\Programs\\Python\\Python39\\lib\\site-packages\\scipy\\stats\\_stats_py.py:4068: PearsonRConstantInputWarning: An input array is constant; the correlation coefficient is not defined.\n",
      "  warnings.warn(PearsonRConstantInputWarning())\n",
      "c:\\Users\\Administrator\\AppData\\Local\\Programs\\Python\\Python39\\lib\\site-packages\\scipy\\stats\\_stats_py.py:4068: PearsonRConstantInputWarning: An input array is constant; the correlation coefficient is not defined.\n",
      "  warnings.warn(PearsonRConstantInputWarning())\n"
     ]
    }
   ],
   "source": [
    "data_path = '../../../model/weights_da_rev_non/'\n",
    "\n",
    "y_test_da_non = np.load(data_path + 'y_test_stab_da(non)_onehot_hhblits.npy')\n",
    "y_test_da_ori_rev = np.load(data_path + 'y_test_stab_da(ori+rev)_onehot_hhblits.npy')\n",
    "y_test_da_rev = np.load(data_path + 'y_test_stab_da(rev)_onehot_hhblits.npy')\n",
    "y_test_mcsm_all = np.load(data_path + 'y_test_stab_mcsm(all)_onehot_hhblits.npy')\n",
    "y_test_mcsm_ori = np.load(data_path + 'y_test_stab_mcsm(ori)_onehot_hhblits.npy')\n",
    "y_test_mcsm_rev = np.load(data_path + 'y_test_stab_mcsm(rev)_onehot_hhblits.npy')\n",
    "\n",
    "y_pred_da_non_dict, y_pred_da_ori_rev_dict, y_pred_da_rev_dict = seed3dict(), seed3dict(), seed3dict()\n",
    "y_pred_mcsm_all_dict, y_pred_mcsm_ori_dict, y_pred_mcsm_rev_dict = seed3dict(), seed3dict(), seed3dict()\n",
    "for i in range(3): # 3 seeds\n",
    "    seed = str(i + 1)\n",
    "    y_pred_da_non = np.load(data_path + 'y_pred_stab_da(non)_onehot_hhblits_seed' + seed + '.npy')\n",
    "    y_pred_da_ori_rev = np.load(data_path + 'y_pred_stab_da(ori+rev)_onehot_hhblits_seed' + seed + '.npy')\n",
    "    y_pred_da_rev = np.load(data_path + 'y_pred_stab_da(rev)_onehot_hhblits_seed' + seed + '.npy')\n",
    "    y_pred_mcsm_all = np.load(data_path + 'y_pred_stab_mcsm(all)_onehot_hhblits_seed' + seed + '.npy')\n",
    "    y_pred_mcsm_ori = np.load(data_path + 'y_pred_stab_mcsm(ori)_onehot_hhblits_seed' + seed + '.npy')\n",
    "    y_pred_mcsm_rev = np.load(data_path + 'y_pred_stab_mcsm(rev)_onehot_hhblits_seed' + seed + '.npy')\n",
    "    y_pred_da_non = convert2d(y_pred_da_non)\n",
    "    y_pred_da_ori_rev = convert2d(y_pred_da_ori_rev)\n",
    "    y_pred_da_rev = convert2d(y_pred_da_rev)\n",
    "    y_pred_mcsm_all = convert2d(y_pred_mcsm_all)\n",
    "    y_pred_mcsm_ori = convert2d(y_pred_mcsm_ori)\n",
    "    y_pred_mcsm_rev = convert2d(y_pred_mcsm_rev)\n",
    "\n",
    "    y_pred_da_non_dict['rmse'][i] = mean_squared_error(y_test_da_non, y_pred_da_non)\n",
    "    y_pred_da_non_dict['r2_score'][i] = r2_score(y_test_da_non, y_pred_da_non)\n",
    "    y_pred_da_non_dict['pcc'][i] = pearsonr(y_test_da_non, y_pred_da_non)[0]\n",
    "    y_pred_da_ori_rev_dict['rmse'][i] = mean_squared_error(y_test_da_ori_rev, y_pred_da_ori_rev)\n",
    "    y_pred_da_ori_rev_dict['r2_score'][i] = r2_score(y_test_da_ori_rev, y_pred_da_ori_rev)\n",
    "    y_pred_da_ori_rev_dict['pcc'][i] = pearsonr(y_test_da_ori_rev, y_pred_da_ori_rev)[0]\n",
    "    y_pred_da_rev_dict['rmse'][i] = mean_squared_error(y_test_da_rev, y_pred_da_rev)\n",
    "    y_pred_da_rev_dict['r2_score'][i] = r2_score(y_test_da_rev, y_pred_da_rev)\n",
    "    y_pred_da_rev_dict['pcc'][i] = pearsonr(y_test_da_rev, y_pred_da_rev)[0]\n",
    "    y_pred_mcsm_all_dict['rmse'][i] = mean_squared_error(y_test_mcsm_all, y_pred_mcsm_all)\n",
    "    y_pred_mcsm_all_dict['r2_score'][i] = r2_score(y_test_mcsm_all, y_pred_mcsm_all)\n",
    "    y_pred_mcsm_all_dict['pcc'][i] = pearsonr(y_test_mcsm_all, y_pred_mcsm_all)[0]\n",
    "    y_pred_mcsm_ori_dict['rmse'][i] = mean_squared_error(y_test_mcsm_ori, y_pred_mcsm_ori)\n",
    "    y_pred_mcsm_ori_dict['r2_score'][i] = r2_score(y_test_mcsm_ori, y_pred_mcsm_ori)\n",
    "    y_pred_mcsm_ori_dict['pcc'][i] = pearsonr(y_test_mcsm_ori, y_pred_mcsm_ori)[0]\n",
    "    y_pred_mcsm_rev_dict['rmse'][i] = mean_squared_error(y_test_mcsm_rev, y_pred_mcsm_rev)\n",
    "    y_pred_mcsm_rev_dict['r2_score'][i] = r2_score(y_test_mcsm_rev, y_pred_mcsm_rev)\n",
    "    y_pred_mcsm_rev_dict['pcc'][i] = pearsonr(y_test_mcsm_rev, y_pred_mcsm_rev)[0]\n"
   ]
  },
  {
   "cell_type": "code",
   "execution_count": 4,
   "metadata": {},
   "outputs": [
    {
     "name": "stdout",
     "output_type": "stream",
     "text": [
      "+------------+--------------+-------------+--------------+\n",
      "|  test set  |   r-square   |     rmse    |     pcc      |\n",
      "+------------+--------------+-------------+--------------+\n",
      "|   da_non   |   0.0±0.0    | 2.377±1.337 |   nan±nan    |\n",
      "| da_ori_rev | -0.738±0.114 | 5.682±1.216 | -0.029±0.004 |\n",
      "|   da_rev   | -1.684±0.239 | 5.608±1.042 | -0.16±0.107  |\n",
      "|  mcsm_all  | -1.23±0.797  | 4.987±3.986 | 0.061±0.039  |\n",
      "|  mcsm_ori  | -1.755±1.799 | 5.756±7.857 | 0.148±0.078  |\n",
      "|  mcsm_rev  | -3.585±1.823 | 3.921±1.334 | -0.133±0.043 |\n",
      "+------------+--------------+-------------+--------------+\n"
     ]
    }
   ],
   "source": [
    "# print performance table\n",
    "from prettytable import PrettyTable\n",
    "table = PrettyTable(['test set','r-square','rmse','pcc'])\n",
    "table.add_row(['da_non',str(np.around(np.mean(y_pred_da_non_dict['r2_score']),3))+'±'+str(np.around(np.var(y_pred_da_non_dict['r2_score']),3)),\n",
    "                        str(np.around(np.mean(y_pred_da_non_dict['rmse']),3))+'±'+str(np.around(np.var(y_pred_da_non_dict['rmse']),3)),\n",
    "                        str(np.around(np.mean(y_pred_da_non_dict['pcc']),3))+'±'+str(np.around(np.var(y_pred_da_non_dict['pcc']),3))])\n",
    "table.add_row(['da_ori_rev',str(np.around(np.mean(y_pred_da_ori_rev_dict['r2_score']),3))+'±'+str(np.around(np.var(y_pred_da_ori_rev_dict['r2_score']),3)),\n",
    "                        str(np.around(np.mean(y_pred_da_ori_rev_dict['rmse']),3))+'±'+str(np.around(np.var(y_pred_da_ori_rev_dict['rmse']),3)),\n",
    "                        str(np.around(np.mean(y_pred_da_ori_rev_dict['pcc']),3))+'±'+str(np.around(np.var(y_pred_da_ori_rev_dict['pcc']),3))])\n",
    "table.add_row(['da_rev',str(np.around(np.mean(y_pred_da_rev_dict['r2_score']),3))+'±'+str(np.around(np.var(y_pred_da_rev_dict['r2_score']),3)),\n",
    "                        str(np.around(np.mean(y_pred_da_rev_dict['rmse']),3))+'±'+str(np.around(np.var(y_pred_da_rev_dict['rmse']),3)),\n",
    "                        str(np.around(np.mean(y_pred_da_rev_dict['pcc']),3))+'±'+str(np.around(np.var(y_pred_da_rev_dict['pcc']),3))])\n",
    "table.add_row(['mcsm_all',str(np.around(np.mean(y_pred_mcsm_all_dict['r2_score']),3))+'±'+str(np.around(np.var(y_pred_mcsm_all_dict['r2_score']),3)),\n",
    "                        str(np.around(np.mean(y_pred_mcsm_all_dict['rmse']),3))+'±'+str(np.around(np.var(y_pred_mcsm_all_dict['rmse']),3)),\n",
    "                        str(np.around(np.mean(y_pred_mcsm_all_dict['pcc']),3))+'±'+str(np.around(np.var(y_pred_mcsm_all_dict['pcc']),3))])\n",
    "table.add_row(['mcsm_ori',str(np.around(np.mean(y_pred_mcsm_ori_dict['r2_score']),3))+'±'+str(np.around(np.var(y_pred_mcsm_ori_dict['r2_score']),3)),\n",
    "                        str(np.around(np.mean(y_pred_mcsm_ori_dict['rmse']),3))+'±'+str(np.around(np.var(y_pred_mcsm_ori_dict['rmse']),3)),\n",
    "                        str(np.around(np.mean(y_pred_mcsm_ori_dict['pcc']),3))+'±'+str(np.around(np.var(y_pred_mcsm_ori_dict['pcc']),3))])\n",
    "table.add_row(['mcsm_rev',str(np.around(np.mean(y_pred_mcsm_rev_dict['r2_score']),3))+'±'+str(np.around(np.var(y_pred_mcsm_rev_dict['r2_score']),3)),\n",
    "                        str(np.around(np.mean(y_pred_mcsm_rev_dict['rmse']),3))+'±'+str(np.around(np.var(y_pred_mcsm_rev_dict['rmse']),3)),\n",
    "                        str(np.around(np.mean(y_pred_mcsm_rev_dict['pcc']),3))+'±'+str(np.around(np.var(y_pred_mcsm_rev_dict['pcc']),3))])\n",
    "print(table)"
   ]
  },
  {
   "cell_type": "code",
   "execution_count": null,
   "metadata": {},
   "outputs": [],
   "source": []
  }
 ],
 "metadata": {
  "kernelspec": {
   "display_name": "Python 3.9.12 64-bit",
   "language": "python",
   "name": "python3"
  },
  "language_info": {
   "codemirror_mode": {
    "name": "ipython",
    "version": 3
   },
   "file_extension": ".py",
   "mimetype": "text/x-python",
   "name": "python",
   "nbconvert_exporter": "python",
   "pygments_lexer": "ipython3",
   "version": "3.9.12"
  },
  "orig_nbformat": 4,
  "vscode": {
   "interpreter": {
    "hash": "6fff98fc3b3d81bd655c2cc48858186e4d9e2db7b515bf1c3221888f12a62f87"
   }
  }
 },
 "nbformat": 4,
 "nbformat_minor": 2
}
