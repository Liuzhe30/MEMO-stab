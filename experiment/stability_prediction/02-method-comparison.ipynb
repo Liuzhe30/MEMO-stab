{
 "cells": [
  {
   "cell_type": "markdown",
   "metadata": {},
   "source": [
    "#### compare performance of existing methods"
   ]
  },
  {
   "cell_type": "code",
   "execution_count": 1,
   "metadata": {},
   "outputs": [],
   "source": [
    "import numpy as np\n",
    "import pandas as pd\n",
    "from sklearn.metrics import confusion_matrix, precision_score, accuracy_score,recall_score, f1_score"
   ]
  },
  {
   "cell_type": "code",
   "execution_count": 2,
   "metadata": {},
   "outputs": [],
   "source": [
    "def classify(label):\n",
    "    if(np.abs(label) >= 0.4):\n",
    "        label = 1\n",
    "    else:\n",
    "        label = 0\n",
    "    return label"
   ]
  },
  {
   "cell_type": "code",
   "execution_count": 3,
   "metadata": {},
   "outputs": [
    {
     "data": {
      "text/html": [
       "<div>\n",
       "<style scoped>\n",
       "    .dataframe tbody tr th:only-of-type {\n",
       "        vertical-align: middle;\n",
       "    }\n",
       "\n",
       "    .dataframe tbody tr th {\n",
       "        vertical-align: top;\n",
       "    }\n",
       "\n",
       "    .dataframe thead th {\n",
       "        text-align: right;\n",
       "    }\n",
       "</style>\n",
       "<table border=\"1\" class=\"dataframe\">\n",
       "  <thead>\n",
       "    <tr style=\"text-align: right;\">\n",
       "      <th></th>\n",
       "      <th>DDG</th>\n",
       "      <th>PDB</th>\n",
       "      <th>MUTATION</th>\n",
       "      <th>CHAIN</th>\n",
       "      <th>imutant-PRED</th>\n",
       "      <th>mcsmmem-PRED</th>\n",
       "      <th>SDM-PRED</th>\n",
       "      <th>DUET-PRED</th>\n",
       "    </tr>\n",
       "  </thead>\n",
       "  <tbody>\n",
       "    <tr>\n",
       "      <th>0</th>\n",
       "      <td>-1.3</td>\n",
       "      <td>1AFO.pdb</td>\n",
       "      <td>L75A</td>\n",
       "      <td>A</td>\n",
       "      <td>-2.55</td>\n",
       "      <td>-0.530</td>\n",
       "      <td>0.04</td>\n",
       "      <td>-1.609</td>\n",
       "    </tr>\n",
       "    <tr>\n",
       "      <th>1</th>\n",
       "      <td>-1.8</td>\n",
       "      <td>1AFO.pdb</td>\n",
       "      <td>I76A</td>\n",
       "      <td>A</td>\n",
       "      <td>-2.26</td>\n",
       "      <td>-1.898</td>\n",
       "      <td>-3.22</td>\n",
       "      <td>-3.024</td>\n",
       "    </tr>\n",
       "    <tr>\n",
       "      <th>2</th>\n",
       "      <td>-1.7</td>\n",
       "      <td>1AFO.pdb</td>\n",
       "      <td>G79A</td>\n",
       "      <td>A</td>\n",
       "      <td>-0.80</td>\n",
       "      <td>-1.228</td>\n",
       "      <td>1.80</td>\n",
       "      <td>-0.392</td>\n",
       "    </tr>\n",
       "    <tr>\n",
       "      <th>3</th>\n",
       "      <td>-0.4</td>\n",
       "      <td>1AFO.pdb</td>\n",
       "      <td>V80A</td>\n",
       "      <td>A</td>\n",
       "      <td>-1.26</td>\n",
       "      <td>-1.538</td>\n",
       "      <td>0.61</td>\n",
       "      <td>-1.222</td>\n",
       "    </tr>\n",
       "    <tr>\n",
       "      <th>4</th>\n",
       "      <td>-1.3</td>\n",
       "      <td>2K73.pdb</td>\n",
       "      <td>A62G</td>\n",
       "      <td>A</td>\n",
       "      <td>-0.83</td>\n",
       "      <td>-0.141</td>\n",
       "      <td>-1.40</td>\n",
       "      <td>-1.132</td>\n",
       "    </tr>\n",
       "  </tbody>\n",
       "</table>\n",
       "</div>"
      ],
      "text/plain": [
       "   DDG       PDB MUTATION CHAIN  imutant-PRED  mcsmmem-PRED  SDM-PRED  \\\n",
       "0 -1.3  1AFO.pdb     L75A     A         -2.55        -0.530      0.04   \n",
       "1 -1.8  1AFO.pdb     I76A     A         -2.26        -1.898     -3.22   \n",
       "2 -1.7  1AFO.pdb     G79A     A         -0.80        -1.228      1.80   \n",
       "3 -0.4  1AFO.pdb     V80A     A         -1.26        -1.538      0.61   \n",
       "4 -1.3  2K73.pdb     A62G     A         -0.83        -0.141     -1.40   \n",
       "\n",
       "   DUET-PRED  \n",
       "0     -1.609  \n",
       "1     -3.024  \n",
       "2     -0.392  \n",
       "3     -1.222  \n",
       "4     -1.132  "
      ]
     },
     "execution_count": 3,
     "metadata": {},
     "output_type": "execute_result"
    }
   ],
   "source": [
    "annotation_file = '../../datasets/annotation/comparison_table.csv'\n",
    "annotation = pd.read_csv(annotation_file)\n",
    "annotation.head()"
   ]
  },
  {
   "cell_type": "markdown",
   "metadata": {},
   "source": [
    "##### model 1: mcsm-membrane"
   ]
  },
  {
   "cell_type": "code",
   "execution_count": 4,
   "metadata": {},
   "outputs": [
    {
     "name": "stdout",
     "output_type": "stream",
     "text": [
      "[1 1 1 1 1 0 0 1 1 1 1 1 1 1 1 0 1 1 1 1 1 1 1 1 1 1 1 1 0 0 0 1 0 1 1 1]\n",
      "[1 1 1 1 0 1 1 1 1 1 1 1 1 1 1 1 1 1 1 0 0 0 1 1 1 1 0 1 1 0 1 1 1 1 1 1]\n"
     ]
    }
   ],
   "source": [
    "label_list = []\n",
    "pred_list = []\n",
    "for i in np.array(annotation['DDG'].values):\n",
    "    label_list.append(classify(i))\n",
    "for i in np.array(annotation['mcsmmem-PRED'].values):\n",
    "    pred_list.append(classify(i))\n",
    "label = np.array(label_list)\n",
    "pred = np.array(pred_list)\n",
    "print(label)\n",
    "print(pred)"
   ]
  },
  {
   "cell_type": "code",
   "execution_count": 5,
   "metadata": {},
   "outputs": [
    {
     "name": "stdout",
     "output_type": "stream",
     "text": [
      "acc= 0.6944444444444444\n",
      "precision= 0.8\n",
      "recall= 0.8275862068965517\n",
      "f1-score= 0.8135593220338982\n"
     ]
    }
   ],
   "source": [
    "print('acc=', accuracy_score(label,pred))\n",
    "print('precision=', precision_score(label,pred))\n",
    "print('recall=',recall_score(label,pred))\n",
    "print('f1-score=',f1_score(label,pred))"
   ]
  },
  {
   "cell_type": "markdown",
   "metadata": {},
   "source": [
    "##### model 2: i-mutant"
   ]
  },
  {
   "cell_type": "code",
   "execution_count": 6,
   "metadata": {},
   "outputs": [
    {
     "name": "stdout",
     "output_type": "stream",
     "text": [
      "[1 1 1 1 1 0 0 1 1 1 1 1 1 1 1 0 1 1 1 1 1 1 1 1 1 1 1 1 0 0 0 1 0 1 1 1]\n",
      "[1 1 1 1 1 1 1 1 1 1 1 1 1 1 1 1 1 1 1 1 1 1 1 1 1 1 1 1 1 1 1 1 1 1 1 1]\n"
     ]
    }
   ],
   "source": [
    "label_list = []\n",
    "pred_list = []\n",
    "for i in np.array(annotation['DDG'].values):\n",
    "    label_list.append(classify(i))\n",
    "for i in np.array(annotation['imutant-PRED'].values):\n",
    "    pred_list.append(classify(i))\n",
    "label = np.array(label_list)\n",
    "pred = np.array(pred_list)\n",
    "print(label)\n",
    "print(pred)"
   ]
  },
  {
   "cell_type": "markdown",
   "metadata": {},
   "source": [
    "##### model 3: SDM"
   ]
  },
  {
   "cell_type": "code",
   "execution_count": 7,
   "metadata": {},
   "outputs": [
    {
     "name": "stdout",
     "output_type": "stream",
     "text": [
      "[1 1 1 1 1 0 0 1 1 1 1 1 1 1 1 0 1 1 1 1 1 1 1 1 1 1 1 1 0 0 0 1 0 1 1 1]\n",
      "[0 1 1 1 1 1 1 0 0 1 1 1 0 1 1 0 0 1 1 1 1 1 1 1 1 1 1 1 1 1 1 1 1 0 0 0]\n"
     ]
    }
   ],
   "source": [
    "label_list = []\n",
    "pred_list = []\n",
    "for i in np.array(annotation['DDG'].values):\n",
    "    label_list.append(classify(i))\n",
    "for i in np.array(annotation['SDM-PRED'].values):\n",
    "    pred_list.append(classify(i))\n",
    "label = np.array(label_list)\n",
    "pred = np.array(pred_list)\n",
    "print(label)\n",
    "print(pred)"
   ]
  },
  {
   "cell_type": "code",
   "execution_count": 8,
   "metadata": {},
   "outputs": [
    {
     "name": "stdout",
     "output_type": "stream",
     "text": [
      "acc= 0.6111111111111112\n",
      "precision= 0.7777777777777778\n",
      "recall= 0.7241379310344828\n",
      "f1-score= 0.75\n"
     ]
    }
   ],
   "source": [
    "print('acc=', accuracy_score(label,pred))\n",
    "print('precision=', precision_score(label,pred))\n",
    "print('recall=',recall_score(label,pred))\n",
    "print('f1-score=',f1_score(label,pred))"
   ]
  },
  {
   "cell_type": "markdown",
   "metadata": {},
   "source": [
    "#### model 4: DUET"
   ]
  },
  {
   "cell_type": "code",
   "execution_count": 9,
   "metadata": {},
   "outputs": [
    {
     "name": "stdout",
     "output_type": "stream",
     "text": [
      "[1 1 1 1 1 0 0 1 1 1 1 1 1 1 1 0 1 1 1 1 1 1 1 1 1 1 1 1 0 0 0 1 0 1 1 1]\n",
      "[1 1 0 1 1 1 1 1 1 1 1 1 1 1 1 1 1 1 0 1 1 1 0 1 1 1 0 1 1 1 1 1 0 1 1 1]\n"
     ]
    }
   ],
   "source": [
    "label_list = []\n",
    "pred_list = []\n",
    "for i in np.array(annotation['DDG'].values):\n",
    "    label_list.append(classify(i))\n",
    "for i in np.array(annotation['DUET-PRED'].values):\n",
    "    pred_list.append(classify(i))\n",
    "label = np.array(label_list)\n",
    "pred = np.array(pred_list)\n",
    "print(label)\n",
    "print(pred)"
   ]
  },
  {
   "cell_type": "code",
   "execution_count": 10,
   "metadata": {},
   "outputs": [
    {
     "name": "stdout",
     "output_type": "stream",
     "text": [
      "acc= 0.7222222222222222\n",
      "precision= 0.8064516129032258\n",
      "recall= 0.8620689655172413\n",
      "f1-score= 0.8333333333333334\n"
     ]
    }
   ],
   "source": [
    "print('acc=', accuracy_score(label,pred))\n",
    "print('precision=', precision_score(label,pred))\n",
    "print('recall=',recall_score(label,pred))\n",
    "print('f1-score=',f1_score(label,pred))"
   ]
  },
  {
   "cell_type": "code",
   "execution_count": 11,
   "metadata": {},
   "outputs": [
    {
     "data": {
      "image/png": "[encoded data removed]",
      "text/plain": [
       "<Figure size 1000x500 with 1 Axes>"
      ]
     },
     "metadata": {},
     "output_type": "display_data"
    }
   ],
   "source": [
    "# plot\n",
    "import matplotlib.pyplot as plt\n",
    "x = np.arange(4) # acc,pre,recall,f1\n",
    "y1 = [0.61,0.78,0.72,0.75]\n",
    "y2 = [0.72,0.81,0.86,0.83]\n",
    "y3 = [0.69,0.83,0.80,0.81]\n",
    "y4 = [0.81,0.82,1.00,0.89]\n",
    "fig = plt.figure(figsize=(10,5))\n",
    "plt.plot(x,y1,'*-',color='#4169E1',label='SDM')\n",
    "plt.plot(x,y2,'--',color='#FFD700',label='DUET')\n",
    "plt.plot(x,y3,'o-',color='#708090',label='mCSM-membrane')\n",
    "plt.plot(x,y4,'s-',color='#DC143C',label='MEMO-stab')\n",
    "plt.xticks([0,1,2,3],['accuracy','precision','recall','f1_score'])\n",
    "plt.legend(loc = \"best\")\n",
    "plt.ylim((0.55, 1.05))\n",
    "plt.xlabel(\"evaluation metric\")\n",
    "plt.ylabel(\"performance\")\n",
    "plt.title('Performance comparison between existing methods', fontsize=16)\n",
    "plt.savefig('images/model_comparison.png',dpi=300, bbox_inches = 'tight')\n",
    "plt.show()"
   ]
  }
 ],
 "metadata": {
  "kernelspec": {
   "display_name": "Python 3.9.12 64-bit",
   "language": "python",
   "name": "python3"
  },
  "language_info": {
   "codemirror_mode": {
    "name": "ipython",
    "version": 3
   },
   "file_extension": ".py",
   "mimetype": "text/x-python",
   "name": "python",
   "nbconvert_exporter": "python",
   "pygments_lexer": "ipython3",
   "version": "3.9.12"
  },
  "orig_nbformat": 4,
  "vscode": {
   "interpreter": {
    "hash": "6fff98fc3b3d81bd655c2cc48858186e4d9e2db7b515bf1c3221888f12a62f87"
   }
  }
 },
 "nbformat": 4,
 "nbformat_minor": 2
}
